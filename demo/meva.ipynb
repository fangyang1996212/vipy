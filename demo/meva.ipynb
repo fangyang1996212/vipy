{
 "cells": [
  {
   "cell_type": "code",
   "execution_count": 1,
   "metadata": {},
   "outputs": [],
   "source": [
    "from vipy.dataset.meva import Mevadata_Public_01\n",
    "from vipy.batch import Batch\n",
    "from vipy.util import flatlist, groupbyasdict\n",
    "from vipy.visualize import montage"
   ]
  },
  {
   "cell_type": "code",
   "execution_count": null,
   "metadata": {},
   "outputs": [],
   "source": [
    "d = Mevadata_Public_01(videodir='/Volumes/JEBYRNE/meva/Mevadata_Public_01',  # http://mevadata.org/#getting-data\n",
    "                       repodir='/Volumes/JEBYRNE/meva/meva-data-repo')       # http://gitlab.kitware.com/meva/meva-data-repo\n",
    "meva = d.MEVA(verbose=False)"
   ]
  },
  {
   "cell_type": "code",
   "execution_count": null,
   "metadata": {},
   "outputs": [],
   "source": [
    "activitylist = flatlist([m.activityclip(padframes=(0,100)) for m in meva])          # Videos to activity clips\n",
    "d_category_to_activitylist = groupbyasdict(activitylist, lambda im: im.category())  # Group clips by activity label\n",
    "shortlist = [a[0] for (k,a) in d_category_to_activitylist.items()]                  # One activity per category"
   ]
  },
  {
   "cell_type": "code",
   "execution_count": null,
   "metadata": {},
   "outputs": [],
   "source": [
    "imb = Batch(shortlist, n_processes=2)                                               # local parallelism\n",
    "framelist = flatlist(imb.map(lambda a: [a.clone(flushbackward=True)[k]              # Interpolate kth frame\n",
    "                                         .centersquare()                            # Crop the center square per frame                                        \n",
    "                                         .mindim(256)                               # Set square dimension to 256  \n",
    "                                         .savefig(fontsize=10, boxalpha=0.5).rgb()  # Overlay annotations  \n",
    "                                        for k in range(0,100,10)]))                 # Show every 10 frames of activity"
   ]
  },
  {
   "cell_type": "code",
   "execution_count": null,
   "metadata": {},
   "outputs": [],
   "source": [
    "# Display one example of each activity by row, every ten frames by column for one hundred frames\n",
    "montage(framelist, imgwidth=256, imgheight=256, gridrows=len(d_category_to_activitylist), gridcols=10).show()\n",
    "print([a.category() for a in imb.batch()])"
   ]
  }
 ],
 "metadata": {
  "kernelspec": {
   "display_name": "Python 3",
   "language": "python",
   "name": "python3"
  },
  "language_info": {
   "codemirror_mode": {
    "name": "ipython",
    "version": 3
   },
   "file_extension": ".py",
   "mimetype": "text/x-python",
   "name": "python",
   "nbconvert_exporter": "python",
   "pygments_lexer": "ipython3",
   "version": "3.7.3"
  }
 },
 "nbformat": 4,
 "nbformat_minor": 4
}
